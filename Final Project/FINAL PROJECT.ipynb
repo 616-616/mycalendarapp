{
 "cells": [
  {
   "cell_type": "markdown",
   "metadata": {},
   "source": [
    "TITLE: Using CSV as an interactive calendar app!"
   ]
  },
  {
   "cell_type": "markdown",
   "metadata": {},
   "source": [
    "(1) setting up the dataframe, import csv of calendar template\n",
    "#+ date/time function? Would be cool to add the date as top row\n",
    "    #+ automate appending new week as it rolls around?"
   ]
  },
  {
   "cell_type": "code",
   "execution_count": 1,
   "metadata": {},
   "outputs": [],
   "source": [
    "#import relevant pa\n",
    "import pandas as pd\n",
    "%matplotlib inline"
   ]
  },
  {
   "cell_type": "code",
   "execution_count": null,
   "metadata": {},
   "outputs": [],
   "source": [
    "prod = pd.read_csv(\"Desktop/Python/pyth09/unit-6-pandas-1/datasets/Production.Product.csv\", sep=\"\\t\")"
   ]
  },
  {
   "cell_type": "markdown",
   "metadata": {},
   "source": [
    "(2) select your points delegation and specifications for bonus points \n",
    "#+ add them to the dataframe"
   ]
  },
  {
   "cell_type": "markdown",
   "metadata": {},
   "source": [
    "(3) parse in your data (theoretically, on a daily basis over time)\n",
    "#+ try/except block ; input here"
   ]
  },
  {
   "cell_type": "markdown",
   "metadata": {},
   "source": [
    "(4) apply that data, mutating the existing sets and aggregating the points in their own row\n",
    "#+ class of aggregating functions:\n",
    "        # 1 : function that adds points to the Day columns, according to the information in the aDay column\n",
    "        \n",
    "        # 2 : function that adds everything in the Day column to give a raw total (int)\n",
    "        \n",
    "        # 3 : function that adds points to the final total on a conditional basis\n",
    "            \n",
    "            # 3.5 : function that applies parameters to datetime and applies points on conditional basis\n",
    "        \n",
    "        # 4 : function that adds points on Boolean basis to the final total"
   ]
  },
  {
   "cell_type": "markdown",
   "metadata": {},
   "source": [
    "(5) interpret that data\n",
    "#+ pie chart of proportions of time ; line chart showing cumulative 8-point activity"
   ]
  }
 ],
 "metadata": {
  "kernelspec": {
   "display_name": "Python 3",
   "language": "python",
   "name": "python3"
  },
  "language_info": {
   "codemirror_mode": {
    "name": "ipython",
    "version": 3
   },
   "file_extension": ".py",
   "mimetype": "text/x-python",
   "name": "python",
   "nbconvert_exporter": "python",
   "pygments_lexer": "ipython3",
   "version": "3.8.3"
  }
 },
 "nbformat": 4,
 "nbformat_minor": 4
}
